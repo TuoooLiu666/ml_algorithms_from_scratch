{
 "cells": [
  {
   "cell_type": "markdown",
   "metadata": {},
   "source": [
    "### cross validation & hyperparameter tuning\n",
    "\n",
    "**Hyperparameter tuning** is the process of finding the best set of hyperparameters for a machine learning model. There are several methods for hyperparameter tuning, including **grid search**, **random search**, and **Bayesian optimization**.\n",
    "\n",
    "- grid search: prespecified grid of hyperparameters is used to train and evaluate the model.\n",
    "- random search: hyperparameters are randomly sampled from a specified distribution and model is trained and evaluated for each set of sampled hyperparameters\n",
    "- Bayesian optimization: a probabilistic model is used to model the relationship between the hyperparameters and the model’s performance.\n",
    "\n",
    "**Cross validation** (**CV**) is a technique used to evaluate the performance of a machine learning model. the basic idea of CV is to split the data into training and validation sets, and then train the model on the training set and evaluate it on the validation set. This process is repeated multiple times, with different splits of the data, to get an estimate of the model's performance by taking average of the performance metric.\n",
    "\n",
    "- k-fold cross validation\n",
    "- leave one out cross validation\n",
    "- stratified cross validation: ensure that the distribution of the target variable is the same in the training and validation sets\n",
    "- **nested cross-validation**: it’s possible to end up with an overly optimistic generalization error (due to overfitting) when we use the (vanilla) cross-validation method to optimize hyperparameters and model selection.\n",
    "  - split the training set into a training set and a validation set\n",
    "  - use the training set to train the model using a given grid of hyperparameters\n",
    "  - use the validation set to evaluate the model and select the best hyperparameters\n",
    "  - use the best hyperparameters to train the final model on the entire training set\n",
    "  - use the test set to evaluate the final model\n",
    "- flat cross validation\n",
    "\n",
    "\n",
    "\n"
   ]
  }
 ],
 "metadata": {
  "language_info": {
   "name": "python"
  }
 },
 "nbformat": 4,
 "nbformat_minor": 2
}

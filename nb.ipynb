{
 "cells": [
  {
   "cell_type": "markdown",
   "metadata": {},
   "source": [
    "### Bayes Theorem\n",
    "\n",
    "$$\n",
    "P(A|B)=\\frac{P(B|A)P(A)}{P(B)}\n",
    "$$\n",
    "\n",
    "for classification problems, we have:\n",
    "\n",
    "$$\n",
    "P(y|X)=\\frac{P(X|y)P(y)}{P(X)}\n",
    "$$\n",
    "\n",
    "where $P(y|X)$ is the posterior probability, $P(x|y)$ is the likelihood, $P(y)$ is the prior, and $P(x)$ is the evidence (data).\n",
    "\n",
    "the feature vector X is given by $X=(x_1, x_2, \\dots, x_n)$. by assuming independence between the features and chain rule, we can write:\n",
    "\n",
    "$$\n",
    "\\begin{aligned}\n",
    "P(X|y) &= P(x_1|y)P(x_2|y)\\cdots P(x_n|y) \\\\\n",
    "P(y|X) &= \\frac{P(X|y)P(y)}{P(X)}=\\frac{P(x_1|y)P(x_2|y)\\cdots P(x_n|y)P(y)}{P(X)}\n",
    "\\end{aligned}\n",
    "$$\n"
   ]
  },
  {
   "cell_type": "markdown",
   "metadata": {},
   "source": [
    "the goal is to select class with highest likelihood:\n",
    "\n",
    "$$\n",
    "\\begin{aligned}\n",
    "y^* & = \\arg\\max_y \\frac{P(y|X)}{P(X)}=\\frac{P(x_1|y)P(x_2|y)\\dots P(x_n|y)P(y)}{P(X)} \\\\\n",
    "& = \\arg\\max_y P(x_1|y)P(x_2|y)\\dots P(x_n|y)P(y)\n",
    "\\end{aligned}\n",
    "$$"
   ]
  },
  {
   "cell_type": "markdown",
   "metadata": {},
   "source": [
    "since we are multiplying numerous probabilities that taking values from 0 to 1, we do logarithmic transformation to avoid overflow issue:\n",
    "\n",
    "$$\n",
    "\\begin{aligned}\n",
    "y^* & = \\arg\\max_y \\log P(x_1|y)P(x_2|y)\\dots P(x_n|y)P(y) \\\\\n",
    "& = \\arg\\max_y \\log P(x_1|y) + \\log P(x_2|y) + \\dots + \\log P(x_n|y) + \\log P(y)\n",
    "\\end{aligned}\n",
    "$$"
   ]
  },
  {
   "cell_type": "markdown",
   "metadata": {},
   "source": [
    "- $P(y)$: prior probability of class y can be calculated using frequency\n",
    "- $P(x_i|y)$: likelihood of feature $x_i$ given class y can be modelled using Guassian distribution\n",
    "- $P(X)$: evidence can be ignored since it is constant for all classes"
   ]
  }
 ],
 "metadata": {
  "kernelspec": {
   "display_name": "Python 3",
   "language": "python",
   "name": "python3"
  },
  "language_info": {
   "codemirror_mode": {
    "name": "ipython",
    "version": 3
   },
   "file_extension": ".py",
   "mimetype": "text/x-python",
   "name": "python",
   "nbconvert_exporter": "python",
   "pygments_lexer": "ipython3",
   "version": "3.11.9"
  }
 },
 "nbformat": 4,
 "nbformat_minor": 2
}

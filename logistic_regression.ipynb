{
 "cells": [
  {
   "cell_type": "markdown",
   "metadata": {},
   "source": [
    "### Linear Classifers\n",
    "\n",
    "- Linear regression methods\n",
    "- Linear log-odds models\n",
    "  - Logistic Regression\n",
    "  - Linear Discriminant Analysis\n",
    "- separating hyperplanes\n",
    "  - perception model\n",
    "  - optimal separating hyperplane-SVMs"
   ]
  },
  {
   "cell_type": "markdown",
   "metadata": {},
   "source": [
    "Linear-logit model assumes that the logit is linear in x:\n",
    "\n",
    "$$\n",
    "\\log \\frac{P(Y=1|X=x)}{P(Y=0|X=x)} = \\beta_0 + \\beta_1^T \\mathbf{x}\n",
    "$$\n",
    "\n",
    "which implies:\n",
    "\n",
    "$$\n",
    "\\begin{aligned}\n",
    "P(Y=1|X=x) &= \\frac{\\exp(\\beta_0 + \\beta_1^T \\mathbf{x})}{1 + \\exp(\\beta_0 + \\beta_1^T \\mathbf{x})} \\\\\n",
    "P(Y=0|X=x) &= \\frac{1}{1 + \\exp(\\beta_0 + \\beta_1^T \\mathbf{x})} \n",
    "\\end{aligned}\n",
    "$$\n",
    "\n",
    "under equal-cost assumption, the decision boundary is:\n",
    "\n",
    "$$\n",
    "\\{x|P(Y=1|X=x)=.5\\}=\\{x|logit=0\\}=\\{x|\\beta_0 + \\beta_1^T \\mathbf{x}=0\\} \n",
    "$$"
   ]
  },
  {
   "cell_type": "markdown",
   "metadata": {},
   "source": [
    "LDA assumes \n",
    "\n",
    "- each class density is multivariate Guassian\n",
    "- equal covariance \n",
    "\n",
    "Logistic Regression assumes\n",
    "\n",
    "- the log-odds is linear in x\n",
    "\n",
    "major differences between LDA and Logistic Regression\n",
    "\n",
    "- where is the linear-logit from?\n",
    "  - LDA linear-logit is implied by the equal-covariance Gussian assumption on data\n",
    "  - LR linear-logit is a direct model assumption\n",
    "- how to estimate the linear coefficients?\n",
    "  - LR maximizes the conditional likelihood and ignores the marginal probabilities\n",
    "  - LDA maximizes the joint likelihood and takes into account the marginal probabilities and marginal density play a role\n",
    "- any assumption on the marginal density of X?\n",
    "  - LDA assumes a miture of two Guassian densities with equal covariance\n",
    "  - LR leaves marginal density of X unspecified and arbitrary, and is thus more general than LDA"
   ]
  }
 ],
 "metadata": {
  "language_info": {
   "name": "python"
  }
 },
 "nbformat": 4,
 "nbformat_minor": 2
}
